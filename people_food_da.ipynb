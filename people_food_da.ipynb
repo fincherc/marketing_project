{
 "cells": [
  {
   "cell_type": "code",
   "execution_count": 1,
   "id": "77832ec4",
   "metadata": {},
   "outputs": [],
   "source": [
    "import seaborn as sns\n",
    "import matplotlib.pyplot as plt\n",
    "import matplotlib.ticker as ticker\n",
    "import pandas as pd\n",
    "import seaborn as sns"
   ]
  },
  {
   "cell_type": "code",
   "execution_count": 2,
   "id": "58e8b63c",
   "metadata": {},
   "outputs": [
    {
     "name": "stdout",
     "output_type": "stream",
     "text": [
      "<class 'pandas.core.frame.DataFrame'>\n",
      "RangeIndex: 2205 entries, 0 to 2204\n",
      "Data columns (total 39 columns):\n",
      " #   Column                Non-Null Count  Dtype  \n",
      "---  ------                --------------  -----  \n",
      " 0   Income                2205 non-null   float64\n",
      " 1   Kidhome               2205 non-null   int64  \n",
      " 2   Teenhome              2205 non-null   int64  \n",
      " 3   Recency               2205 non-null   int64  \n",
      " 4   MntWines              2205 non-null   int64  \n",
      " 5   MntFruits             2205 non-null   int64  \n",
      " 6   MntMeatProducts       2205 non-null   int64  \n",
      " 7   MntFishProducts       2205 non-null   int64  \n",
      " 8   MntSweetProducts      2205 non-null   int64  \n",
      " 9   MntGoldProds          2205 non-null   int64  \n",
      " 10  NumDealsPurchases     2205 non-null   int64  \n",
      " 11  NumWebPurchases       2205 non-null   int64  \n",
      " 12  NumCatalogPurchases   2205 non-null   int64  \n",
      " 13  NumStorePurchases     2205 non-null   int64  \n",
      " 14  NumWebVisitsMonth     2205 non-null   int64  \n",
      " 15  AcceptedCmp3          2205 non-null   int64  \n",
      " 16  AcceptedCmp4          2205 non-null   int64  \n",
      " 17  AcceptedCmp5          2205 non-null   int64  \n",
      " 18  AcceptedCmp1          2205 non-null   int64  \n",
      " 19  AcceptedCmp2          2205 non-null   int64  \n",
      " 20  Complain              2205 non-null   int64  \n",
      " 21  Z_CostContact         2205 non-null   int64  \n",
      " 22  Z_Revenue             2205 non-null   int64  \n",
      " 23  Response              2205 non-null   int64  \n",
      " 24  Age                   2205 non-null   int64  \n",
      " 25  Customer_Days         2205 non-null   int64  \n",
      " 26  marital_Divorced      2205 non-null   int64  \n",
      " 27  marital_Married       2205 non-null   int64  \n",
      " 28  marital_Single        2205 non-null   int64  \n",
      " 29  marital_Together      2205 non-null   int64  \n",
      " 30  marital_Widow         2205 non-null   int64  \n",
      " 31  education_2n Cycle    2205 non-null   int64  \n",
      " 32  education_Basic       2205 non-null   int64  \n",
      " 33  education_Graduation  2205 non-null   int64  \n",
      " 34  education_Master      2205 non-null   int64  \n",
      " 35  education_PhD         2205 non-null   int64  \n",
      " 36  MntTotal              2205 non-null   int64  \n",
      " 37  MntRegularProds       2205 non-null   int64  \n",
      " 38  AcceptedCmpOverall    2205 non-null   int64  \n",
      "dtypes: float64(1), int64(38)\n",
      "memory usage: 672.0 KB\n"
     ]
    },
    {
     "data": {
      "application/vnd.microsoft.datawrangler.viewer.v0+json": {
       "columns": [
        {
         "name": "index",
         "rawType": "object",
         "type": "string"
        },
        {
         "name": "Income",
         "rawType": "float64",
         "type": "float"
        },
        {
         "name": "Kidhome",
         "rawType": "float64",
         "type": "float"
        },
        {
         "name": "Teenhome",
         "rawType": "float64",
         "type": "float"
        },
        {
         "name": "Recency",
         "rawType": "float64",
         "type": "float"
        },
        {
         "name": "MntWines",
         "rawType": "float64",
         "type": "float"
        },
        {
         "name": "MntFruits",
         "rawType": "float64",
         "type": "float"
        },
        {
         "name": "MntMeatProducts",
         "rawType": "float64",
         "type": "float"
        },
        {
         "name": "MntFishProducts",
         "rawType": "float64",
         "type": "float"
        },
        {
         "name": "MntSweetProducts",
         "rawType": "float64",
         "type": "float"
        },
        {
         "name": "MntGoldProds",
         "rawType": "float64",
         "type": "float"
        },
        {
         "name": "NumDealsPurchases",
         "rawType": "float64",
         "type": "float"
        },
        {
         "name": "NumWebPurchases",
         "rawType": "float64",
         "type": "float"
        },
        {
         "name": "NumCatalogPurchases",
         "rawType": "float64",
         "type": "float"
        },
        {
         "name": "NumStorePurchases",
         "rawType": "float64",
         "type": "float"
        },
        {
         "name": "NumWebVisitsMonth",
         "rawType": "float64",
         "type": "float"
        },
        {
         "name": "AcceptedCmp3",
         "rawType": "float64",
         "type": "float"
        },
        {
         "name": "AcceptedCmp4",
         "rawType": "float64",
         "type": "float"
        },
        {
         "name": "AcceptedCmp5",
         "rawType": "float64",
         "type": "float"
        },
        {
         "name": "AcceptedCmp1",
         "rawType": "float64",
         "type": "float"
        },
        {
         "name": "AcceptedCmp2",
         "rawType": "float64",
         "type": "float"
        },
        {
         "name": "Complain",
         "rawType": "float64",
         "type": "float"
        },
        {
         "name": "Z_CostContact",
         "rawType": "float64",
         "type": "float"
        },
        {
         "name": "Z_Revenue",
         "rawType": "float64",
         "type": "float"
        },
        {
         "name": "Response",
         "rawType": "float64",
         "type": "float"
        },
        {
         "name": "Age",
         "rawType": "float64",
         "type": "float"
        },
        {
         "name": "Customer_Days",
         "rawType": "float64",
         "type": "float"
        },
        {
         "name": "marital_Divorced",
         "rawType": "float64",
         "type": "float"
        },
        {
         "name": "marital_Married",
         "rawType": "float64",
         "type": "float"
        },
        {
         "name": "marital_Single",
         "rawType": "float64",
         "type": "float"
        },
        {
         "name": "marital_Together",
         "rawType": "float64",
         "type": "float"
        },
        {
         "name": "marital_Widow",
         "rawType": "float64",
         "type": "float"
        },
        {
         "name": "education_2n Cycle",
         "rawType": "float64",
         "type": "float"
        },
        {
         "name": "education_Basic",
         "rawType": "float64",
         "type": "float"
        },
        {
         "name": "education_Graduation",
         "rawType": "float64",
         "type": "float"
        },
        {
         "name": "education_Master",
         "rawType": "float64",
         "type": "float"
        },
        {
         "name": "education_PhD",
         "rawType": "float64",
         "type": "float"
        },
        {
         "name": "MntTotal",
         "rawType": "float64",
         "type": "float"
        },
        {
         "name": "MntRegularProds",
         "rawType": "float64",
         "type": "float"
        },
        {
         "name": "AcceptedCmpOverall",
         "rawType": "float64",
         "type": "float"
        }
       ],
       "conversionMethod": "pd.DataFrame",
       "ref": "ebf81219-3327-4c81-afe1-ffeb631c9fda",
       "rows": [
        [
         "count",
         "2205.0",
         "2205.0",
         "2205.0",
         "2205.0",
         "2205.0",
         "2205.0",
         "2205.0",
         "2205.0",
         "2205.0",
         "2205.0",
         "2205.0",
         "2205.0",
         "2205.0",
         "2205.0",
         "2205.0",
         "2205.0",
         "2205.0",
         "2205.0",
         "2205.0",
         "2205.0",
         "2205.0",
         "2205.0",
         "2205.0",
         "2205.0",
         "2205.0",
         "2205.0",
         "2205.0",
         "2205.0",
         "2205.0",
         "2205.0",
         "2205.0",
         "2205.0",
         "2205.0",
         "2205.0",
         "2205.0",
         "2205.0",
         "2205.0",
         "2205.0",
         "2205.0"
        ],
        [
         "mean",
         "51622.0947845805",
         "0.4421768707482993",
         "0.5065759637188209",
         "49.00907029478458",
         "306.16462585034014",
         "26.4031746031746",
         "165.31201814058957",
         "37.756462585034015",
         "27.128344671201813",
         "44.05714285714286",
         "2.3183673469387753",
         "4.100680272108844",
         "2.6453514739229025",
         "5.823582766439909",
         "5.3369614512471655",
         "0.07392290249433106",
         "0.07437641723356009",
         "0.07301587301587302",
         "0.06439909297052154",
         "0.013605442176870748",
         "0.009070294784580499",
         "3.0",
         "11.0",
         "0.1510204081632653",
         "51.09569160997732",
         "2512.718367346939",
         "0.10430839002267574",
         "0.3873015873015873",
         "0.2163265306122449",
         "0.2575963718820862",
         "0.034467120181405894",
         "0.08979591836734693",
         "0.024489795918367346",
         "0.5047619047619047",
         "0.16507936507936508",
         "0.21587301587301588",
         "562.7646258503402",
         "518.7074829931972",
         "0.29931972789115646"
        ],
        [
         "std",
         "20713.06382588019",
         "0.5371319070591039",
         "0.5443800685558536",
         "28.932111370026774",
         "337.493838917225",
         "39.78448393948482",
         "217.78450667629988",
         "54.82463471718748",
         "41.130467677273145",
         "51.73621141606572",
         "1.8861066836644749",
         "2.7374237245497306",
         "2.7986470069019385",
         "3.2417964099813754",
         "2.4135354140708927",
         "0.26170473423111423",
         "0.2624419973716751",
         "0.2602215693873808",
         "0.2455182015554074",
         "0.11587244366483225",
         "0.09482669765504559",
         "0.0",
         "0.0",
         "0.3581499929637092",
         "11.70580093117262",
         "202.56364654385683",
         "0.3057295210822018",
         "0.48724402020842905",
         "0.4118328322440205",
         "0.4374097058862806",
         "0.18246708534725975",
         "0.2859540088439039",
         "0.1545991113104162",
         "0.5000907358686375",
         "0.37133637550195003",
         "0.4115199375532506",
         "575.9369108204296",
         "553.8472480705676",
         "0.6804400264379442"
        ],
        [
         "min",
         "1730.0",
         "0.0",
         "0.0",
         "0.0",
         "0.0",
         "0.0",
         "0.0",
         "0.0",
         "0.0",
         "0.0",
         "0.0",
         "0.0",
         "0.0",
         "0.0",
         "0.0",
         "0.0",
         "0.0",
         "0.0",
         "0.0",
         "0.0",
         "0.0",
         "3.0",
         "11.0",
         "0.0",
         "24.0",
         "2159.0",
         "0.0",
         "0.0",
         "0.0",
         "0.0",
         "0.0",
         "0.0",
         "0.0",
         "0.0",
         "0.0",
         "0.0",
         "4.0",
         "-283.0",
         "0.0"
        ],
        [
         "25%",
         "35196.0",
         "0.0",
         "0.0",
         "24.0",
         "24.0",
         "2.0",
         "16.0",
         "3.0",
         "1.0",
         "9.0",
         "1.0",
         "2.0",
         "0.0",
         "3.0",
         "3.0",
         "0.0",
         "0.0",
         "0.0",
         "0.0",
         "0.0",
         "0.0",
         "3.0",
         "11.0",
         "0.0",
         "43.0",
         "2339.0",
         "0.0",
         "0.0",
         "0.0",
         "0.0",
         "0.0",
         "0.0",
         "0.0",
         "0.0",
         "0.0",
         "0.0",
         "56.0",
         "42.0",
         "0.0"
        ],
        [
         "50%",
         "51287.0",
         "0.0",
         "0.0",
         "49.0",
         "178.0",
         "8.0",
         "68.0",
         "12.0",
         "8.0",
         "25.0",
         "2.0",
         "4.0",
         "2.0",
         "5.0",
         "6.0",
         "0.0",
         "0.0",
         "0.0",
         "0.0",
         "0.0",
         "0.0",
         "3.0",
         "11.0",
         "0.0",
         "50.0",
         "2515.0",
         "0.0",
         "0.0",
         "0.0",
         "0.0",
         "0.0",
         "0.0",
         "0.0",
         "1.0",
         "0.0",
         "0.0",
         "343.0",
         "288.0",
         "0.0"
        ],
        [
         "75%",
         "68281.0",
         "1.0",
         "1.0",
         "74.0",
         "507.0",
         "33.0",
         "232.0",
         "50.0",
         "34.0",
         "56.0",
         "3.0",
         "6.0",
         "4.0",
         "8.0",
         "7.0",
         "0.0",
         "0.0",
         "0.0",
         "0.0",
         "0.0",
         "0.0",
         "3.0",
         "11.0",
         "0.0",
         "61.0",
         "2688.0",
         "0.0",
         "1.0",
         "0.0",
         "1.0",
         "0.0",
         "0.0",
         "0.0",
         "1.0",
         "0.0",
         "0.0",
         "964.0",
         "884.0",
         "0.0"
        ],
        [
         "max",
         "113734.0",
         "2.0",
         "2.0",
         "99.0",
         "1493.0",
         "199.0",
         "1725.0",
         "259.0",
         "262.0",
         "321.0",
         "15.0",
         "27.0",
         "28.0",
         "13.0",
         "20.0",
         "1.0",
         "1.0",
         "1.0",
         "1.0",
         "1.0",
         "1.0",
         "3.0",
         "11.0",
         "1.0",
         "80.0",
         "2858.0",
         "1.0",
         "1.0",
         "1.0",
         "1.0",
         "1.0",
         "1.0",
         "1.0",
         "1.0",
         "1.0",
         "1.0",
         "2491.0",
         "2458.0",
         "4.0"
        ]
       ],
       "shape": {
        "columns": 39,
        "rows": 8
       }
      },
      "text/html": [
       "<div>\n",
       "<style scoped>\n",
       "    .dataframe tbody tr th:only-of-type {\n",
       "        vertical-align: middle;\n",
       "    }\n",
       "\n",
       "    .dataframe tbody tr th {\n",
       "        vertical-align: top;\n",
       "    }\n",
       "\n",
       "    .dataframe thead th {\n",
       "        text-align: right;\n",
       "    }\n",
       "</style>\n",
       "<table border=\"1\" class=\"dataframe\">\n",
       "  <thead>\n",
       "    <tr style=\"text-align: right;\">\n",
       "      <th></th>\n",
       "      <th>Income</th>\n",
       "      <th>Kidhome</th>\n",
       "      <th>Teenhome</th>\n",
       "      <th>Recency</th>\n",
       "      <th>MntWines</th>\n",
       "      <th>MntFruits</th>\n",
       "      <th>MntMeatProducts</th>\n",
       "      <th>MntFishProducts</th>\n",
       "      <th>MntSweetProducts</th>\n",
       "      <th>MntGoldProds</th>\n",
       "      <th>...</th>\n",
       "      <th>marital_Together</th>\n",
       "      <th>marital_Widow</th>\n",
       "      <th>education_2n Cycle</th>\n",
       "      <th>education_Basic</th>\n",
       "      <th>education_Graduation</th>\n",
       "      <th>education_Master</th>\n",
       "      <th>education_PhD</th>\n",
       "      <th>MntTotal</th>\n",
       "      <th>MntRegularProds</th>\n",
       "      <th>AcceptedCmpOverall</th>\n",
       "    </tr>\n",
       "  </thead>\n",
       "  <tbody>\n",
       "    <tr>\n",
       "      <th>count</th>\n",
       "      <td>2205.000000</td>\n",
       "      <td>2205.000000</td>\n",
       "      <td>2205.000000</td>\n",
       "      <td>2205.000000</td>\n",
       "      <td>2205.000000</td>\n",
       "      <td>2205.000000</td>\n",
       "      <td>2205.000000</td>\n",
       "      <td>2205.000000</td>\n",
       "      <td>2205.000000</td>\n",
       "      <td>2205.000000</td>\n",
       "      <td>...</td>\n",
       "      <td>2205.000000</td>\n",
       "      <td>2205.000000</td>\n",
       "      <td>2205.000000</td>\n",
       "      <td>2205.000000</td>\n",
       "      <td>2205.000000</td>\n",
       "      <td>2205.000000</td>\n",
       "      <td>2205.000000</td>\n",
       "      <td>2205.000000</td>\n",
       "      <td>2205.000000</td>\n",
       "      <td>2205.00000</td>\n",
       "    </tr>\n",
       "    <tr>\n",
       "      <th>mean</th>\n",
       "      <td>51622.094785</td>\n",
       "      <td>0.442177</td>\n",
       "      <td>0.506576</td>\n",
       "      <td>49.009070</td>\n",
       "      <td>306.164626</td>\n",
       "      <td>26.403175</td>\n",
       "      <td>165.312018</td>\n",
       "      <td>37.756463</td>\n",
       "      <td>27.128345</td>\n",
       "      <td>44.057143</td>\n",
       "      <td>...</td>\n",
       "      <td>0.257596</td>\n",
       "      <td>0.034467</td>\n",
       "      <td>0.089796</td>\n",
       "      <td>0.024490</td>\n",
       "      <td>0.504762</td>\n",
       "      <td>0.165079</td>\n",
       "      <td>0.215873</td>\n",
       "      <td>562.764626</td>\n",
       "      <td>518.707483</td>\n",
       "      <td>0.29932</td>\n",
       "    </tr>\n",
       "    <tr>\n",
       "      <th>std</th>\n",
       "      <td>20713.063826</td>\n",
       "      <td>0.537132</td>\n",
       "      <td>0.544380</td>\n",
       "      <td>28.932111</td>\n",
       "      <td>337.493839</td>\n",
       "      <td>39.784484</td>\n",
       "      <td>217.784507</td>\n",
       "      <td>54.824635</td>\n",
       "      <td>41.130468</td>\n",
       "      <td>51.736211</td>\n",
       "      <td>...</td>\n",
       "      <td>0.437410</td>\n",
       "      <td>0.182467</td>\n",
       "      <td>0.285954</td>\n",
       "      <td>0.154599</td>\n",
       "      <td>0.500091</td>\n",
       "      <td>0.371336</td>\n",
       "      <td>0.411520</td>\n",
       "      <td>575.936911</td>\n",
       "      <td>553.847248</td>\n",
       "      <td>0.68044</td>\n",
       "    </tr>\n",
       "    <tr>\n",
       "      <th>min</th>\n",
       "      <td>1730.000000</td>\n",
       "      <td>0.000000</td>\n",
       "      <td>0.000000</td>\n",
       "      <td>0.000000</td>\n",
       "      <td>0.000000</td>\n",
       "      <td>0.000000</td>\n",
       "      <td>0.000000</td>\n",
       "      <td>0.000000</td>\n",
       "      <td>0.000000</td>\n",
       "      <td>0.000000</td>\n",
       "      <td>...</td>\n",
       "      <td>0.000000</td>\n",
       "      <td>0.000000</td>\n",
       "      <td>0.000000</td>\n",
       "      <td>0.000000</td>\n",
       "      <td>0.000000</td>\n",
       "      <td>0.000000</td>\n",
       "      <td>0.000000</td>\n",
       "      <td>4.000000</td>\n",
       "      <td>-283.000000</td>\n",
       "      <td>0.00000</td>\n",
       "    </tr>\n",
       "    <tr>\n",
       "      <th>25%</th>\n",
       "      <td>35196.000000</td>\n",
       "      <td>0.000000</td>\n",
       "      <td>0.000000</td>\n",
       "      <td>24.000000</td>\n",
       "      <td>24.000000</td>\n",
       "      <td>2.000000</td>\n",
       "      <td>16.000000</td>\n",
       "      <td>3.000000</td>\n",
       "      <td>1.000000</td>\n",
       "      <td>9.000000</td>\n",
       "      <td>...</td>\n",
       "      <td>0.000000</td>\n",
       "      <td>0.000000</td>\n",
       "      <td>0.000000</td>\n",
       "      <td>0.000000</td>\n",
       "      <td>0.000000</td>\n",
       "      <td>0.000000</td>\n",
       "      <td>0.000000</td>\n",
       "      <td>56.000000</td>\n",
       "      <td>42.000000</td>\n",
       "      <td>0.00000</td>\n",
       "    </tr>\n",
       "    <tr>\n",
       "      <th>50%</th>\n",
       "      <td>51287.000000</td>\n",
       "      <td>0.000000</td>\n",
       "      <td>0.000000</td>\n",
       "      <td>49.000000</td>\n",
       "      <td>178.000000</td>\n",
       "      <td>8.000000</td>\n",
       "      <td>68.000000</td>\n",
       "      <td>12.000000</td>\n",
       "      <td>8.000000</td>\n",
       "      <td>25.000000</td>\n",
       "      <td>...</td>\n",
       "      <td>0.000000</td>\n",
       "      <td>0.000000</td>\n",
       "      <td>0.000000</td>\n",
       "      <td>0.000000</td>\n",
       "      <td>1.000000</td>\n",
       "      <td>0.000000</td>\n",
       "      <td>0.000000</td>\n",
       "      <td>343.000000</td>\n",
       "      <td>288.000000</td>\n",
       "      <td>0.00000</td>\n",
       "    </tr>\n",
       "    <tr>\n",
       "      <th>75%</th>\n",
       "      <td>68281.000000</td>\n",
       "      <td>1.000000</td>\n",
       "      <td>1.000000</td>\n",
       "      <td>74.000000</td>\n",
       "      <td>507.000000</td>\n",
       "      <td>33.000000</td>\n",
       "      <td>232.000000</td>\n",
       "      <td>50.000000</td>\n",
       "      <td>34.000000</td>\n",
       "      <td>56.000000</td>\n",
       "      <td>...</td>\n",
       "      <td>1.000000</td>\n",
       "      <td>0.000000</td>\n",
       "      <td>0.000000</td>\n",
       "      <td>0.000000</td>\n",
       "      <td>1.000000</td>\n",
       "      <td>0.000000</td>\n",
       "      <td>0.000000</td>\n",
       "      <td>964.000000</td>\n",
       "      <td>884.000000</td>\n",
       "      <td>0.00000</td>\n",
       "    </tr>\n",
       "    <tr>\n",
       "      <th>max</th>\n",
       "      <td>113734.000000</td>\n",
       "      <td>2.000000</td>\n",
       "      <td>2.000000</td>\n",
       "      <td>99.000000</td>\n",
       "      <td>1493.000000</td>\n",
       "      <td>199.000000</td>\n",
       "      <td>1725.000000</td>\n",
       "      <td>259.000000</td>\n",
       "      <td>262.000000</td>\n",
       "      <td>321.000000</td>\n",
       "      <td>...</td>\n",
       "      <td>1.000000</td>\n",
       "      <td>1.000000</td>\n",
       "      <td>1.000000</td>\n",
       "      <td>1.000000</td>\n",
       "      <td>1.000000</td>\n",
       "      <td>1.000000</td>\n",
       "      <td>1.000000</td>\n",
       "      <td>2491.000000</td>\n",
       "      <td>2458.000000</td>\n",
       "      <td>4.00000</td>\n",
       "    </tr>\n",
       "  </tbody>\n",
       "</table>\n",
       "<p>8 rows × 39 columns</p>\n",
       "</div>"
      ],
      "text/plain": [
       "              Income      Kidhome     Teenhome      Recency     MntWines  \\\n",
       "count    2205.000000  2205.000000  2205.000000  2205.000000  2205.000000   \n",
       "mean    51622.094785     0.442177     0.506576    49.009070   306.164626   \n",
       "std     20713.063826     0.537132     0.544380    28.932111   337.493839   \n",
       "min      1730.000000     0.000000     0.000000     0.000000     0.000000   \n",
       "25%     35196.000000     0.000000     0.000000    24.000000    24.000000   \n",
       "50%     51287.000000     0.000000     0.000000    49.000000   178.000000   \n",
       "75%     68281.000000     1.000000     1.000000    74.000000   507.000000   \n",
       "max    113734.000000     2.000000     2.000000    99.000000  1493.000000   \n",
       "\n",
       "         MntFruits  MntMeatProducts  MntFishProducts  MntSweetProducts  \\\n",
       "count  2205.000000      2205.000000      2205.000000       2205.000000   \n",
       "mean     26.403175       165.312018        37.756463         27.128345   \n",
       "std      39.784484       217.784507        54.824635         41.130468   \n",
       "min       0.000000         0.000000         0.000000          0.000000   \n",
       "25%       2.000000        16.000000         3.000000          1.000000   \n",
       "50%       8.000000        68.000000        12.000000          8.000000   \n",
       "75%      33.000000       232.000000        50.000000         34.000000   \n",
       "max     199.000000      1725.000000       259.000000        262.000000   \n",
       "\n",
       "       MntGoldProds  ...  marital_Together  marital_Widow  education_2n Cycle  \\\n",
       "count   2205.000000  ...       2205.000000    2205.000000         2205.000000   \n",
       "mean      44.057143  ...          0.257596       0.034467            0.089796   \n",
       "std       51.736211  ...          0.437410       0.182467            0.285954   \n",
       "min        0.000000  ...          0.000000       0.000000            0.000000   \n",
       "25%        9.000000  ...          0.000000       0.000000            0.000000   \n",
       "50%       25.000000  ...          0.000000       0.000000            0.000000   \n",
       "75%       56.000000  ...          1.000000       0.000000            0.000000   \n",
       "max      321.000000  ...          1.000000       1.000000            1.000000   \n",
       "\n",
       "       education_Basic  education_Graduation  education_Master  education_PhD  \\\n",
       "count      2205.000000           2205.000000       2205.000000    2205.000000   \n",
       "mean          0.024490              0.504762          0.165079       0.215873   \n",
       "std           0.154599              0.500091          0.371336       0.411520   \n",
       "min           0.000000              0.000000          0.000000       0.000000   \n",
       "25%           0.000000              0.000000          0.000000       0.000000   \n",
       "50%           0.000000              1.000000          0.000000       0.000000   \n",
       "75%           0.000000              1.000000          0.000000       0.000000   \n",
       "max           1.000000              1.000000          1.000000       1.000000   \n",
       "\n",
       "          MntTotal  MntRegularProds  AcceptedCmpOverall  \n",
       "count  2205.000000      2205.000000          2205.00000  \n",
       "mean    562.764626       518.707483             0.29932  \n",
       "std     575.936911       553.847248             0.68044  \n",
       "min       4.000000      -283.000000             0.00000  \n",
       "25%      56.000000        42.000000             0.00000  \n",
       "50%     343.000000       288.000000             0.00000  \n",
       "75%     964.000000       884.000000             0.00000  \n",
       "max    2491.000000      2458.000000             4.00000  \n",
       "\n",
       "[8 rows x 39 columns]"
      ]
     },
     "execution_count": 2,
     "metadata": {},
     "output_type": "execute_result"
    }
   ],
   "source": [
    "df = pd.read_csv('archive/ifood_df.csv')\n",
    "df.head()\n",
    "df.info()\n",
    "df.describe()"
   ]
  },
  {
   "cell_type": "code",
   "execution_count": 3,
   "id": "cfb31c79",
   "metadata": {},
   "outputs": [
    {
     "data": {
      "text/plain": [
       "Income                  0\n",
       "marital_Together        0\n",
       "Z_Revenue               0\n",
       "Response                0\n",
       "Age                     0\n",
       "Customer_Days           0\n",
       "marital_Divorced        0\n",
       "marital_Married         0\n",
       "marital_Single          0\n",
       "marital_Widow           0\n",
       "Complain                0\n",
       "education_2n Cycle      0\n",
       "education_Basic         0\n",
       "education_Graduation    0\n",
       "education_Master        0\n",
       "education_PhD           0\n",
       "MntTotal                0\n",
       "MntRegularProds         0\n",
       "Z_CostContact           0\n",
       "AcceptedCmp2            0\n",
       "Kidhome                 0\n",
       "MntGoldProds            0\n",
       "Teenhome                0\n",
       "Recency                 0\n",
       "MntWines                0\n",
       "MntFruits               0\n",
       "MntMeatProducts         0\n",
       "MntFishProducts         0\n",
       "MntSweetProducts        0\n",
       "NumDealsPurchases       0\n",
       "AcceptedCmp1            0\n",
       "NumWebPurchases         0\n",
       "NumCatalogPurchases     0\n",
       "NumStorePurchases       0\n",
       "NumWebVisitsMonth       0\n",
       "AcceptedCmp3            0\n",
       "AcceptedCmp4            0\n",
       "AcceptedCmp5            0\n",
       "AcceptedCmpOverall      0\n",
       "dtype: int64"
      ]
     },
     "execution_count": 3,
     "metadata": {},
     "output_type": "execute_result"
    }
   ],
   "source": [
    "df.isnull().sum().sort_values(ascending=False)"
   ]
  },
  {
   "cell_type": "code",
   "execution_count": 4,
   "id": "5f3704b3",
   "metadata": {},
   "outputs": [
    {
     "data": {
      "text/plain": [
       "count      2205.000000\n",
       "mean      51622.094785\n",
       "std       20713.063826\n",
       "min        1730.000000\n",
       "25%       35196.000000\n",
       "50%       51287.000000\n",
       "75%       68281.000000\n",
       "max      113734.000000\n",
       "Name: Income, dtype: float64"
      ]
     },
     "execution_count": 4,
     "metadata": {},
     "output_type": "execute_result"
    }
   ],
   "source": [
    "df['Income'].describe()"
   ]
  },
  {
   "cell_type": "code",
   "execution_count": 5,
   "id": "48bcd846",
   "metadata": {},
   "outputs": [
    {
     "name": "stderr",
     "output_type": "stream",
     "text": [
      "c:\\Users\\chris\\anaconda3\\envs\\dev\\lib\\site-packages\\seaborn\\_oldcore.py:1119: FutureWarning: use_inf_as_na option is deprecated and will be removed in a future version. Convert inf values to NaN before operating instead.\n",
      "  with pd.option_context('mode.use_inf_as_na', True):\n"
     ]
    },
    {
     "data": {
      "image/png": "[encoded data removed]",
      "text/plain": [
       "<Figure size 800x500 with 1 Axes>"
      ]
     },
     "metadata": {},
     "output_type": "display_data"
    }
   ],
   "source": [
    "plt.figure(figsize=(8, 5))\n",
    "sns.histplot(df['Age'], bins=range(20, 101, 5), kde=True, color='skyblue')\n",
    "plt.title(\"Customer Age Distribution\")\n",
    "plt.xlabel(\"Age\")\n",
    "plt.ylabel(\"Number of Customers\")\n",
    "plt.xticks(range(20, 101, 5))\n",
    "plt.show()"
   ]
  },
  {
   "cell_type": "code",
   "execution_count": 6,
   "id": "eafdd7be",
   "metadata": {},
   "outputs": [
    {
     "name": "stdout",
     "output_type": "stream",
     "text": [
      "education_2n Cycle       198\n",
      "education_Basic           54\n",
      "education_Graduation    1113\n",
      "education_Master         364\n",
      "education_PhD            476\n",
      "dtype: int64\n"
     ]
    }
   ],
   "source": [
    "education_dist = df[['education_2n Cycle', 'education_Basic', 'education_Graduation',\n",
    "                     'education_Master', 'education_PhD']].sum()\n",
    "print(education_dist)"
   ]
  },
  {
   "cell_type": "code",
   "execution_count": 7,
   "id": "13de1f6f",
   "metadata": {},
   "outputs": [
    {
     "name": "stdout",
     "output_type": "stream",
     "text": [
      "marital_Divorced    230\n",
      "marital_Married     854\n",
      "marital_Single      477\n",
      "marital_Together    568\n",
      "marital_Widow        76\n",
      "dtype: int64\n"
     ]
    }
   ],
   "source": [
    "marital_dist = df[['marital_Divorced', 'marital_Married', 'marital_Single',\n",
    "                     'marital_Together', 'marital_Widow']].sum()\n",
    "print(marital_dist)"
   ]
  },
  {
   "cell_type": "code",
   "execution_count": 8,
   "id": "0c2a5165",
   "metadata": {},
   "outputs": [
    {
     "data": {
      "image/png": "[encoded data removed]",
      "text/plain": [
       "<Figure size 640x480 with 1 Axes>"
      ]
     },
     "metadata": {},
     "output_type": "display_data"
    }
   ],
   "source": [
    "# Education profile\n",
    "education_columns = [col for col in df.columns if col.startswith(\"education_\")]\n",
    "df[education_columns].sum().plot(kind='bar', title=\"Education Level Counts\")\n",
    "\n",
    "plt.xticks(rotation=45)\n",
    "plt.xlabel(\"Education Level\")\n",
    "plt.ylabel(\"Number of Customers\")\n",
    "plt.tight_layout()\n",
    "plt.show()"
   ]
  },
  {
   "cell_type": "code",
   "execution_count": 9,
   "id": "48a44394",
   "metadata": {},
   "outputs": [
    {
     "data": {
      "image/png": "[encoded data removed]",
      "text/plain": [
       "<Figure size 640x480 with 1 Axes>"
      ]
     },
     "metadata": {},
     "output_type": "display_data"
    }
   ],
   "source": [
    "# Marital status profile\n",
    "marital_columns = [col for col in df.columns if col.startswith(\"marital_\")]\n",
    "df[marital_columns].sum().plot(kind='bar', title=\"Marital Status Counts\")\n",
    "\n",
    "plt.xticks(rotation=45)\n",
    "plt.xlabel(\"Education Level\")\n",
    "plt.ylabel(\"Number of Customers\")\n",
    "plt.tight_layout()\n",
    "plt.show()"
   ]
  },
  {
   "cell_type": "code",
   "execution_count": 10,
   "id": "782a997c",
   "metadata": {},
   "outputs": [
    {
     "name": "stdout",
     "output_type": "stream",
     "text": [
      "Response\n",
      "0    0.84898\n",
      "1    0.15102\n",
      "Name: proportion, dtype: float64\n",
      "\n",
      "Response Rate for education_2n Cycle:\n",
      "education_2n Cycle\n",
      "0    0.154958\n",
      "1    0.111111\n",
      "Name: Response, dtype: float64\n",
      "\n",
      "Response Rate for education_Basic:\n",
      "education_Basic\n",
      "0    0.153882\n",
      "1    0.037037\n",
      "Name: Response, dtype: float64\n",
      "\n",
      "Response Rate for education_Graduation:\n",
      "education_Graduation\n",
      "0    0.165751\n",
      "1    0.136568\n",
      "Name: Response, dtype: float64\n",
      "\n",
      "Response Rate for education_Master:\n",
      "education_Master\n",
      "0    0.150462\n",
      "1    0.153846\n",
      "Name: Response, dtype: float64\n",
      "\n",
      "Response Rate for education_PhD:\n",
      "education_PhD\n",
      "0    0.134182\n",
      "1    0.212185\n",
      "Name: Response, dtype: float64\n"
     ]
    }
   ],
   "source": [
    "# Overall response rate\n",
    "print(df['Response'].value_counts(normalize=True))\n",
    "\n",
    "# Response by education\n",
    "for col in education_columns:\n",
    "    rate = df.groupby(col)['Response'].mean()\n",
    "    print(f\"\\nResponse Rate for {col}:\\n{rate}\")"
   ]
  },
  {
   "cell_type": "code",
   "execution_count": 11,
   "id": "1661f3fb",
   "metadata": {},
   "outputs": [
    {
     "data": {
      "text/plain": [
       "Kidhome\n",
       "0    61390.128527\n",
       "1    38156.328426\n",
       "2    39149.500000\n",
       "Name: Income, dtype: float64"
      ]
     },
     "execution_count": 11,
     "metadata": {},
     "output_type": "execute_result"
    }
   ],
   "source": [
    "df.groupby('Kidhome')['Income'].mean()\n"
   ]
  },
  {
   "cell_type": "code",
   "execution_count": 12,
   "id": "9364b255",
   "metadata": {},
   "outputs": [
    {
     "name": "stderr",
     "output_type": "stream",
     "text": [
      "C:\\Users\\chris\\AppData\\Local\\Temp\\ipykernel_42108\\4100909823.py:2: FutureWarning: \n",
      "\n",
      "The `ci` parameter is deprecated. Use `errorbar=None` for the same effect.\n",
      "\n",
      "  sns.barplot(x='Kidhome', y='Income', data=df, estimator='mean', ci=None)\n"
     ]
    },
    {
     "data": {
      "image/png": "[encoded data removed]",
      "text/plain": [
       "<Figure size 800x500 with 1 Axes>"
      ]
     },
     "metadata": {},
     "output_type": "display_data"
    }
   ],
   "source": [
    "plt.figure(figsize=(8, 5))\n",
    "sns.barplot(x='Kidhome', y='Income', data=df, estimator='mean', ci=None)\n",
    "plt.title(\"Average Income by Number of Kids at Home\")\n",
    "plt.xlabel(\"Number of Kids at Home\")\n",
    "plt.ylabel(\"Average Income\")\n",
    "plt.grid(axis='y')\n",
    "plt.show()"
   ]
  },
  {
   "cell_type": "code",
   "execution_count": 13,
   "id": "ffd1b933",
   "metadata": {},
   "outputs": [
    {
     "name": "stdout",
     "output_type": "stream",
     "text": [
      "-0.3503133281513374\n"
     ]
    }
   ],
   "source": [
    "df['TotalChildren'] = df['Kidhome'] + df['Teenhome']\n",
    "print(df['Income'].corr(df['TotalChildren']))"
   ]
  },
  {
   "cell_type": "code",
   "execution_count": 14,
   "id": "6765fbbc",
   "metadata": {},
   "outputs": [
    {
     "data": {
      "image/png": "[encoded data removed]",
      "text/plain": [
       "<Figure size 800x500 with 1 Axes>"
      ]
     },
     "metadata": {},
     "output_type": "display_data"
    }
   ],
   "source": [
    "plt.figure(figsize=(8, 5))\n",
    "sns.regplot(x='TotalChildren', y='Income', data=df, scatter_kws={'alpha':0.6})\n",
    "plt.title(\"Income vs. Number of Kids at Home\")\n",
    "plt.xlabel(\"Number of Kids at Home\")\n",
    "plt.ylabel(\"Income\")\n",
    "plt.gca().xaxis.set_major_locator(ticker.MaxNLocator(integer=True))\n",
    "plt.grid(True)\n",
    "plt.show()"
   ]
  }
 ],
 "metadata": {
  "kernelspec": {
   "display_name": "dev",
   "language": "python",
   "name": "python3"
  },
  "language_info": {
   "codemirror_mode": {
    "name": "ipython",
    "version": 3
   },
   "file_extension": ".py",
   "mimetype": "text/x-python",
   "name": "python",
   "nbconvert_exporter": "python",
   "pygments_lexer": "ipython3",
   "version": "3.10.14"
  }
 },
 "nbformat": 4,
 "nbformat_minor": 5
}
